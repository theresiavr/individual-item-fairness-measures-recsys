{
 "cells": [
  {
   "attachments": {},
   "cell_type": "markdown",
   "metadata": {},
   "source": [
    "# Gini-w, MME, IBO, IWO, OD"
   ]
  },
  {
   "cell_type": "code",
   "execution_count": null,
   "metadata": {},
   "outputs": [],
   "source": [
    "import warnings\n",
    "warnings.simplefilter(\"ignore\")\n",
    "\n",
    "import pickle\n",
    "import pandas as pd\n",
    "import numpy as np\n",
    "\n",
    "import os\n",
    "\n",
    "from recbole.config import Config\n",
    "from recbole.evaluator.evaluator import Evaluator\n",
    "    \n",
    "import torch"
   ]
  },
  {
   "cell_type": "code",
   "execution_count": null,
   "metadata": {},
   "outputs": [],
   "source": [
    "#take struct from a dataset\n",
    "dataset = \"Amazon_Luxury_Beauty\" \n",
    "model_name = \"Pop\"\n",
    "list_file = os.listdir(\"../struct/\")\n",
    "file_for_dataset = [x for x in list_file if dataset in x]\n",
    "assert len(file_for_dataset) == 1\n",
    "\n",
    "\n",
    "def get_measure(num_item:int, curr_rec, curr_rel, k, metrics=[\"IBOIWO\",\"MME_IIF_AIF\"]):\n",
    "    with open(\"../struct/\"+file_for_dataset[0],\"rb\") as f:\n",
    "        struct = pickle.load(f)\n",
    "    config = Config(\n",
    "                    model=model_name, \n",
    "                    dataset=dataset, \n",
    "                    config_file_list=[\"../RecBole/recbole/properties/overall.yaml\"],\n",
    "                    config_dict={\n",
    "                        \"topk\":k,\n",
    "                        \"metrics\":metrics}\n",
    "                                )\n",
    "    evaluator = Evaluator(config)\n",
    "    struct.set(\"data.num_items\", num_item+1) #because -1 in metrics.py\n",
    "    struct.set(\"rec.items\", curr_rec)\n",
    "    struct.set(\"rec.topk\", curr_rel)\n",
    "    struct.set(\"rec.score\",None) #we don't need this\n",
    "\n",
    "    pos_items = torch.where(curr_rel[:,:num_item]==1, curr_rec, np.nan)\n",
    "    pos_items = np.asarray([x[~np.isnan(x)].astype(int) for x in pos_items.numpy()])\n",
    "    struct.set(\"data.pos_items\",pos_items.copy())\n",
    "\n",
    "    return evaluator.evaluate(struct)"
   ]
  },
  {
   "cell_type": "markdown",
   "metadata": {},
   "source": [
    "# Check Gini-w & OD"
   ]
  },
  {
   "cell_type": "code",
   "execution_count": null,
   "metadata": {},
   "outputs": [
    {
     "name": "stdout",
     "output_type": "stream",
     "text": [
      "nan\n",
      "tensor([[1, 2, 3],\n",
      "        [1, 2, 3]], dtype=torch.int32) 0.156426242\n",
      "nan\n",
      "tensor([[1, 2, 3],\n",
      "        [1, 3, 2]], dtype=torch.int32) 0.1359453927\n",
      "nan\n",
      "tensor([[1, 2, 3],\n",
      "        [2, 1, 3]], dtype=torch.int32) 0.0986939703\n",
      "nan\n",
      "tensor([[1, 2, 3],\n",
      "        [2, 3, 1]], dtype=torch.int32) 0.078213121\n",
      "nan\n",
      "tensor([[1, 2, 3],\n",
      "        [3, 1, 2]], dtype=torch.int32) 0.078213121\n",
      "nan\n",
      "tensor([[1, 2, 3],\n",
      "        [3, 2, 1]], dtype=torch.int32) 0.0372514224\n",
      "nan\n",
      "tensor([[1, 3, 2],\n",
      "        [1, 2, 3]], dtype=torch.int32) 0.1359453927\n",
      "nan\n",
      "tensor([[1, 3, 2],\n",
      "        [1, 3, 2]], dtype=torch.int32) 0.156426242\n",
      "nan\n",
      "tensor([[1, 3, 2],\n",
      "        [2, 1, 3]], dtype=torch.int32) 0.078213121\n",
      "nan\n",
      "tensor([[1, 3, 2],\n",
      "        [2, 3, 1]], dtype=torch.int32) 0.0372514224\n",
      "nan\n",
      "tensor([[1, 3, 2],\n",
      "        [3, 1, 2]], dtype=torch.int32) 0.0986939703\n",
      "nan\n",
      "tensor([[1, 3, 2],\n",
      "        [3, 2, 1]], dtype=torch.int32) 0.078213121\n",
      "nan\n",
      "tensor([[2, 1, 3],\n",
      "        [1, 2, 3]], dtype=torch.int32) 0.0986939703\n",
      "nan\n",
      "tensor([[2, 1, 3],\n",
      "        [1, 3, 2]], dtype=torch.int32) 0.078213121\n",
      "nan\n",
      "tensor([[2, 1, 3],\n",
      "        [2, 1, 3]], dtype=torch.int32) 0.156426242\n",
      "nan\n",
      "tensor([[2, 1, 3],\n",
      "        [2, 3, 1]], dtype=torch.int32) 0.1359453927\n",
      "nan\n",
      "tensor([[2, 1, 3],\n",
      "        [3, 1, 2]], dtype=torch.int32) 0.0372514224\n",
      "nan\n",
      "tensor([[2, 1, 3],\n",
      "        [3, 2, 1]], dtype=torch.int32) 0.078213121\n",
      "nan\n",
      "tensor([[2, 3, 1],\n",
      "        [1, 2, 3]], dtype=torch.int32) 0.078213121\n",
      "nan\n",
      "tensor([[2, 3, 1],\n",
      "        [1, 3, 2]], dtype=torch.int32) 0.0372514224\n",
      "nan\n",
      "tensor([[2, 3, 1],\n",
      "        [2, 1, 3]], dtype=torch.int32) 0.1359453927\n",
      "nan\n",
      "tensor([[2, 3, 1],\n",
      "        [2, 3, 1]], dtype=torch.int32) 0.156426242\n",
      "nan\n",
      "tensor([[2, 3, 1],\n",
      "        [3, 1, 2]], dtype=torch.int32) 0.078213121\n",
      "nan\n",
      "tensor([[2, 3, 1],\n",
      "        [3, 2, 1]], dtype=torch.int32) 0.0986939703\n",
      "nan\n",
      "tensor([[3, 1, 2],\n",
      "        [1, 2, 3]], dtype=torch.int32) 0.078213121\n",
      "nan\n",
      "tensor([[3, 1, 2],\n",
      "        [1, 3, 2]], dtype=torch.int32) 0.0986939703\n",
      "nan\n",
      "tensor([[3, 1, 2],\n",
      "        [2, 1, 3]], dtype=torch.int32) 0.0372514224\n",
      "nan\n",
      "tensor([[3, 1, 2],\n",
      "        [2, 3, 1]], dtype=torch.int32) 0.078213121\n",
      "nan\n",
      "tensor([[3, 1, 2],\n",
      "        [3, 1, 2]], dtype=torch.int32) 0.156426242\n",
      "nan\n",
      "tensor([[3, 1, 2],\n",
      "        [3, 2, 1]], dtype=torch.int32) 0.1359453927\n",
      "nan\n",
      "tensor([[3, 2, 1],\n",
      "        [1, 2, 3]], dtype=torch.int32) 0.0372514224\n",
      "nan\n",
      "tensor([[3, 2, 1],\n",
      "        [1, 3, 2]], dtype=torch.int32) 0.078213121\n",
      "nan\n",
      "tensor([[3, 2, 1],\n",
      "        [2, 1, 3]], dtype=torch.int32) 0.078213121\n",
      "nan\n",
      "tensor([[3, 2, 1],\n",
      "        [2, 3, 1]], dtype=torch.int32) 0.0986939703\n",
      "nan\n",
      "tensor([[3, 2, 1],\n",
      "        [3, 1, 2]], dtype=torch.int32) 0.1359453927\n",
      "nan\n",
      "tensor([[3, 2, 1],\n",
      "        [3, 2, 1]], dtype=torch.int32) 0.156426242\n"
     ]
    }
   ],
   "source": [
    "import itertools\n",
    "permute_item = list(itertools.permutations([1, 2,3]))\n",
    "rel = [1,1,1,1,1,1]\n",
    "k = 3\n",
    "num_item = 3\n",
    "\n",
    "\n",
    "for Ru1 in permute_item:\n",
    "    for Ru2 in permute_item:\n",
    "        curr_rec = np.array([Ru1,Ru2])\n",
    "        curr_rec = torch.Tensor(curr_rec).int()\n",
    "        curr_rel = np.array(rel).reshape(curr_rec.shape[0],num_item) #relevance of item at the recommendation list to user\n",
    "        curr_rel = torch.Tensor(curr_rel)\n",
    "\n",
    "        num_pos_item = torch.Tensor(curr_rel).sum(axis=1)\n",
    "        num_pos_item = num_pos_item[:,np.newaxis]\n",
    "\n",
    "        curr_rel = torch.cat([curr_rel, num_pos_item], dim=1).int()\n",
    "        result = get_measure(num_item, curr_rec, curr_rel, k, metrics=[\"FairWORel\"])\n",
    "\n",
    "        print(curr_rec, result[f\"Gini-w_ori@{k}\"])\n"
   ]
  },
  {
   "cell_type": "code",
   "execution_count": null,
   "metadata": {},
   "outputs": [],
   "source": [
    "import itertools\n",
    "k = 3\n",
    "num_item = 3\n",
    "\n",
    "permute_item = list(itertools.permutations([1,2,3]))\n",
    "permute_rel = list(itertools.product([0,1], repeat=2*num_item))\n",
    "\n",
    "result_list = []\n",
    "\n",
    "for rel in permute_rel:\n",
    "    if not any(rel):\n",
    "        continue\n",
    "\n",
    "    for Ru1 in permute_item:\n",
    "        for Ru2 in permute_item:\n",
    "            curr_rec = np.array([Ru1,Ru2])\n",
    "            curr_rec = torch.Tensor(curr_rec).int()\n",
    "            curr_rel = np.array(rel).reshape(curr_rec.shape[0],num_item) #relevance of item at the recommendation list to user\n",
    "            curr_rel = torch.Tensor(curr_rel)\n",
    "\n",
    "            num_pos_item = torch.Tensor(curr_rel).sum(axis=1)\n",
    "            num_pos_item = num_pos_item[:,np.newaxis]\n",
    "\n",
    "            curr_rel = torch.cat([curr_rel, num_pos_item], dim=1).int()\n",
    "            result = get_measure(num_item, curr_rec, curr_rel, k, metrics=[\"MDG_OD\"])\n",
    "            \n",
    "            result_list.append([rel, curr_rec, result[f\"OD-E_ori@{k}\"], result[f\"OD-F_ori@{k}\"]])"
   ]
  },
  {
   "cell_type": "code",
   "execution_count": null,
   "metadata": {},
   "outputs": [
    {
     "data": {
      "text/html": [
       "<div>\n",
       "<style scoped>\n",
       "    .dataframe tbody tr th:only-of-type {\n",
       "        vertical-align: middle;\n",
       "    }\n",
       "\n",
       "    .dataframe tbody tr th {\n",
       "        vertical-align: top;\n",
       "    }\n",
       "\n",
       "    .dataframe thead th {\n",
       "        text-align: right;\n",
       "    }\n",
       "</style>\n",
       "<table border=\"1\" class=\"dataframe\">\n",
       "  <thead>\n",
       "    <tr style=\"text-align: right;\">\n",
       "      <th></th>\n",
       "      <th>0</th>\n",
       "      <th>1</th>\n",
       "      <th>2</th>\n",
       "      <th>3</th>\n",
       "    </tr>\n",
       "  </thead>\n",
       "  <tbody>\n",
       "    <tr>\n",
       "      <th>216</th>\n",
       "      <td>(0, 0, 0, 1, 1, 1)</td>\n",
       "      <td>[[tensor(1, dtype=torch.int32), tensor(2, dtyp...</td>\n",
       "      <td>0.666667</td>\n",
       "      <td>0.333333</td>\n",
       "    </tr>\n",
       "    <tr>\n",
       "      <th>217</th>\n",
       "      <td>(0, 0, 0, 1, 1, 1)</td>\n",
       "      <td>[[tensor(1, dtype=torch.int32), tensor(2, dtyp...</td>\n",
       "      <td>0.579380</td>\n",
       "      <td>0.333333</td>\n",
       "    </tr>\n",
       "    <tr>\n",
       "      <th>218</th>\n",
       "      <td>(0, 0, 0, 1, 1, 1)</td>\n",
       "      <td>[[tensor(1, dtype=torch.int32), tensor(2, dtyp...</td>\n",
       "      <td>0.420620</td>\n",
       "      <td>0.333333</td>\n",
       "    </tr>\n",
       "    <tr>\n",
       "      <th>219</th>\n",
       "      <td>(0, 0, 0, 1, 1, 1)</td>\n",
       "      <td>[[tensor(1, dtype=torch.int32), tensor(2, dtyp...</td>\n",
       "      <td>0.333333</td>\n",
       "      <td>0.333333</td>\n",
       "    </tr>\n",
       "    <tr>\n",
       "      <th>220</th>\n",
       "      <td>(0, 0, 0, 1, 1, 1)</td>\n",
       "      <td>[[tensor(1, dtype=torch.int32), tensor(2, dtyp...</td>\n",
       "      <td>0.333333</td>\n",
       "      <td>0.333333</td>\n",
       "    </tr>\n",
       "    <tr>\n",
       "      <th>...</th>\n",
       "      <td>...</td>\n",
       "      <td>...</td>\n",
       "      <td>...</td>\n",
       "      <td>...</td>\n",
       "    </tr>\n",
       "    <tr>\n",
       "      <th>2263</th>\n",
       "      <td>(1, 1, 1, 1, 1, 1)</td>\n",
       "      <td>[[tensor(3, dtype=torch.int32), tensor(2, dtyp...</td>\n",
       "      <td>0.166667</td>\n",
       "      <td>0.166667</td>\n",
       "    </tr>\n",
       "    <tr>\n",
       "      <th>2264</th>\n",
       "      <td>(1, 1, 1, 1, 1, 1)</td>\n",
       "      <td>[[tensor(3, dtype=torch.int32), tensor(2, dtyp...</td>\n",
       "      <td>0.166667</td>\n",
       "      <td>0.166667</td>\n",
       "    </tr>\n",
       "    <tr>\n",
       "      <th>2265</th>\n",
       "      <td>(1, 1, 1, 1, 1, 1)</td>\n",
       "      <td>[[tensor(3, dtype=torch.int32), tensor(2, dtyp...</td>\n",
       "      <td>0.210310</td>\n",
       "      <td>0.210310</td>\n",
       "    </tr>\n",
       "    <tr>\n",
       "      <th>2266</th>\n",
       "      <td>(1, 1, 1, 1, 1, 1)</td>\n",
       "      <td>[[tensor(3, dtype=torch.int32), tensor(2, dtyp...</td>\n",
       "      <td>0.289690</td>\n",
       "      <td>0.289690</td>\n",
       "    </tr>\n",
       "    <tr>\n",
       "      <th>2267</th>\n",
       "      <td>(1, 1, 1, 1, 1, 1)</td>\n",
       "      <td>[[tensor(3, dtype=torch.int32), tensor(2, dtyp...</td>\n",
       "      <td>0.333333</td>\n",
       "      <td>0.333333</td>\n",
       "    </tr>\n",
       "  </tbody>\n",
       "</table>\n",
       "<p>972 rows × 4 columns</p>\n",
       "</div>"
      ],
      "text/plain": [
       "                       0                                                  1  \\\n",
       "216   (0, 0, 0, 1, 1, 1)  [[tensor(1, dtype=torch.int32), tensor(2, dtyp...   \n",
       "217   (0, 0, 0, 1, 1, 1)  [[tensor(1, dtype=torch.int32), tensor(2, dtyp...   \n",
       "218   (0, 0, 0, 1, 1, 1)  [[tensor(1, dtype=torch.int32), tensor(2, dtyp...   \n",
       "219   (0, 0, 0, 1, 1, 1)  [[tensor(1, dtype=torch.int32), tensor(2, dtyp...   \n",
       "220   (0, 0, 0, 1, 1, 1)  [[tensor(1, dtype=torch.int32), tensor(2, dtyp...   \n",
       "...                  ...                                                ...   \n",
       "2263  (1, 1, 1, 1, 1, 1)  [[tensor(3, dtype=torch.int32), tensor(2, dtyp...   \n",
       "2264  (1, 1, 1, 1, 1, 1)  [[tensor(3, dtype=torch.int32), tensor(2, dtyp...   \n",
       "2265  (1, 1, 1, 1, 1, 1)  [[tensor(3, dtype=torch.int32), tensor(2, dtyp...   \n",
       "2266  (1, 1, 1, 1, 1, 1)  [[tensor(3, dtype=torch.int32), tensor(2, dtyp...   \n",
       "2267  (1, 1, 1, 1, 1, 1)  [[tensor(3, dtype=torch.int32), tensor(2, dtyp...   \n",
       "\n",
       "             2         3  \n",
       "216   0.666667  0.333333  \n",
       "217   0.579380  0.333333  \n",
       "218   0.420620  0.333333  \n",
       "219   0.333333  0.333333  \n",
       "220   0.333333  0.333333  \n",
       "...        ...       ...  \n",
       "2263  0.166667  0.166667  \n",
       "2264  0.166667  0.166667  \n",
       "2265  0.210310  0.210310  \n",
       "2266  0.289690  0.289690  \n",
       "2267  0.333333  0.333333  \n",
       "\n",
       "[972 rows x 4 columns]"
      ]
     },
     "metadata": {},
     "output_type": "display_data"
    }
   ],
   "source": [
    "df_result_OD = pd.DataFrame(result_list).dropna()"
   ]
  },
  {
   "cell_type": "code",
   "execution_count": null,
   "metadata": {},
   "outputs": [
    {
     "data": {
      "text/plain": [
       "0.0793801643"
      ]
     },
     "metadata": {},
     "output_type": "display_data"
    }
   ],
   "source": [
    "df_result_OD.iloc[df_result_OD[2].argmin()][2]"
   ]
  },
  {
   "cell_type": "code",
   "execution_count": null,
   "metadata": {},
   "outputs": [
    {
     "data": {
      "text/plain": [
       "0.0793801643"
      ]
     },
     "metadata": {},
     "output_type": "display_data"
    }
   ],
   "source": [
    "df_result_OD.iloc[df_result_OD[3].argmin()][3]"
   ]
  },
  {
   "cell_type": "markdown",
   "metadata": {},
   "source": [
    "# Check if MME, IBO, IWO = 0 or 1 is possible for k=n=3, m=2"
   ]
  },
  {
   "cell_type": "code",
   "execution_count": null,
   "metadata": {},
   "outputs": [],
   "source": [
    "import itertools\n",
    "permute_item = list(itertools.permutations([1, 2, 3]))\n",
    "permute_rel = list(itertools.product([0,1], repeat=6))"
   ]
  },
  {
   "cell_type": "code",
   "execution_count": null,
   "metadata": {},
   "outputs": [],
   "source": [
    "max_mme = dict()\n",
    "min_mme = dict()\n",
    "max_IBO = dict()\n",
    "min_IBO = dict()\n",
    "max_IWO = dict()\n",
    "min_IWO = dict()\n",
    "\n",
    "k = 3\n",
    "num_item = 3\n"
   ]
  },
  {
   "cell_type": "code",
   "execution_count": null,
   "metadata": {},
   "outputs": [
    {
     "name": "stdout",
     "output_type": "stream",
     "text": [
      "Finding best and worst permutation for (0, 0, 0, 0, 0, 0)\n",
      "Finding best and worst permutation for (0, 0, 0, 0, 0, 1)\n",
      "Finding best and worst permutation for (0, 0, 0, 0, 1, 0)\n",
      "Finding best and worst permutation for (0, 0, 0, 0, 1, 1)\n",
      "Finding best and worst permutation for (0, 0, 0, 1, 0, 0)\n",
      "Finding best and worst permutation for (0, 0, 0, 1, 0, 1)\n",
      "Finding best and worst permutation for (0, 0, 0, 1, 1, 0)\n",
      "Finding best and worst permutation for (0, 0, 0, 1, 1, 1)\n",
      "Finding best and worst permutation for (0, 0, 1, 0, 0, 0)\n",
      "Finding best and worst permutation for (0, 0, 1, 0, 0, 1)\n",
      "Finding best and worst permutation for (0, 0, 1, 0, 1, 0)\n",
      "Finding best and worst permutation for (0, 0, 1, 0, 1, 1)\n",
      "Finding best and worst permutation for (0, 0, 1, 1, 0, 0)\n",
      "Finding best and worst permutation for (0, 0, 1, 1, 0, 1)\n",
      "Finding best and worst permutation for (0, 0, 1, 1, 1, 0)\n",
      "Finding best and worst permutation for (0, 0, 1, 1, 1, 1)\n",
      "Finding best and worst permutation for (0, 1, 0, 0, 0, 0)\n",
      "Finding best and worst permutation for (0, 1, 0, 0, 0, 1)\n",
      "Finding best and worst permutation for (0, 1, 0, 0, 1, 0)\n",
      "Finding best and worst permutation for (0, 1, 0, 0, 1, 1)\n",
      "Finding best and worst permutation for (0, 1, 0, 1, 0, 0)\n",
      "Finding best and worst permutation for (0, 1, 0, 1, 0, 1)\n",
      "Finding best and worst permutation for (0, 1, 0, 1, 1, 0)\n",
      "Finding best and worst permutation for (0, 1, 0, 1, 1, 1)\n",
      "Finding best and worst permutation for (0, 1, 1, 0, 0, 0)\n",
      "Finding best and worst permutation for (0, 1, 1, 0, 0, 1)\n",
      "Finding best and worst permutation for (0, 1, 1, 0, 1, 0)\n",
      "Finding best and worst permutation for (0, 1, 1, 0, 1, 1)\n",
      "Finding best and worst permutation for (0, 1, 1, 1, 0, 0)\n",
      "Finding best and worst permutation for (0, 1, 1, 1, 0, 1)\n",
      "Finding best and worst permutation for (0, 1, 1, 1, 1, 0)\n",
      "Finding best and worst permutation for (0, 1, 1, 1, 1, 1)\n",
      "Finding best and worst permutation for (1, 0, 0, 0, 0, 0)\n",
      "Finding best and worst permutation for (1, 0, 0, 0, 0, 1)\n",
      "Finding best and worst permutation for (1, 0, 0, 0, 1, 0)\n",
      "Finding best and worst permutation for (1, 0, 0, 0, 1, 1)\n",
      "Finding best and worst permutation for (1, 0, 0, 1, 0, 0)\n",
      "Finding best and worst permutation for (1, 0, 0, 1, 0, 1)\n",
      "Finding best and worst permutation for (1, 0, 0, 1, 1, 0)\n",
      "Finding best and worst permutation for (1, 0, 0, 1, 1, 1)\n",
      "Finding best and worst permutation for (1, 0, 1, 0, 0, 0)\n",
      "Finding best and worst permutation for (1, 0, 1, 0, 0, 1)\n",
      "Finding best and worst permutation for (1, 0, 1, 0, 1, 0)\n",
      "Finding best and worst permutation for (1, 0, 1, 0, 1, 1)\n",
      "Finding best and worst permutation for (1, 0, 1, 1, 0, 0)\n",
      "Finding best and worst permutation for (1, 0, 1, 1, 0, 1)\n",
      "Finding best and worst permutation for (1, 0, 1, 1, 1, 0)\n",
      "Finding best and worst permutation for (1, 0, 1, 1, 1, 1)\n",
      "Finding best and worst permutation for (1, 1, 0, 0, 0, 0)\n",
      "Finding best and worst permutation for (1, 1, 0, 0, 0, 1)\n",
      "Finding best and worst permutation for (1, 1, 0, 0, 1, 0)\n",
      "Finding best and worst permutation for (1, 1, 0, 0, 1, 1)\n",
      "Finding best and worst permutation for (1, 1, 0, 1, 0, 0)\n",
      "Finding best and worst permutation for (1, 1, 0, 1, 0, 1)\n",
      "Finding best and worst permutation for (1, 1, 0, 1, 1, 0)\n",
      "Finding best and worst permutation for (1, 1, 0, 1, 1, 1)\n",
      "Finding best and worst permutation for (1, 1, 1, 0, 0, 0)\n",
      "Finding best and worst permutation for (1, 1, 1, 0, 0, 1)\n",
      "Finding best and worst permutation for (1, 1, 1, 0, 1, 0)\n",
      "Finding best and worst permutation for (1, 1, 1, 0, 1, 1)\n",
      "Finding best and worst permutation for (1, 1, 1, 1, 0, 0)\n",
      "Finding best and worst permutation for (1, 1, 1, 1, 0, 1)\n",
      "Finding best and worst permutation for (1, 1, 1, 1, 1, 0)\n",
      "Finding best and worst permutation for (1, 1, 1, 1, 1, 1)\n"
     ]
    }
   ],
   "source": [
    "for rel in permute_rel:\n",
    "#for given relevance value, find permutation that produces minimum MME:\n",
    "    print(f\"Finding best and worst permutation for {rel}\")\n",
    "    max_mme_this_rel = -np.inf\n",
    "    max_IBO_this_rel = -np.inf\n",
    "    max_IWO_this_rel = -np.inf\n",
    "    min_IBO_this_rel = np.inf\n",
    "    min_mme_this_rel = np.inf\n",
    "    min_IWO_this_rel = np.inf\n",
    "    for Ru1 in permute_item:\n",
    "        for Ru2 in permute_item:\n",
    "            curr_rec = np.array([Ru1,Ru2])\n",
    "            curr_rec = torch.Tensor(curr_rec).int()\n",
    "            curr_rel = np.array(rel).reshape(curr_rec.shape[0],num_item) #relevance of item at the full recommendation list to user\n",
    "            curr_rel = torch.Tensor(curr_rel)\n",
    "\n",
    "            num_pos_item = torch.Tensor(curr_rel).sum(axis=1)\n",
    "            num_pos_item = num_pos_item[:,np.newaxis]\n",
    "\n",
    "            curr_rel = torch.cat([curr_rel, num_pos_item], dim=1).int()\n",
    "            result = get_measure(num_item, curr_rec, curr_rel, k)\n",
    "            \n",
    "            if result[f\"MME_ori@{k}\"] > max_mme_this_rel:\n",
    "                max_mme_this_rel = result[f\"MME_ori@{k}\"]\n",
    "            if result[f\"IBO_ori@{k}\"] > max_IBO_this_rel:\n",
    "                max_IBO_this_rel = result[f\"IBO_ori@{k}\"]\n",
    "            if result[f\"IWO_ori@{k}\"] > max_IWO_this_rel:\n",
    "                max_IWO_this_rel = result[f\"IWO_ori@{k}\"]\n",
    "\n",
    "            if result[f\"MME_ori@{k}\"] < min_mme_this_rel:\n",
    "                min_mme_this_rel = result[f\"MME_ori@{k}\"]\n",
    "            if result[f\"IBO_ori@{k}\"] < min_IBO_this_rel:\n",
    "                min_IBO_this_rel = result[f\"IBO_ori@{k}\"]\n",
    "            if result[f\"IWO_ori@{k}\"] < min_IWO_this_rel:\n",
    "                min_IWO_this_rel = result[f\"IWO_ori@{k}\"]\n",
    "\n",
    "    max_mme[rel] = max_mme_this_rel\n",
    "    max_IBO[rel] = max_IBO_this_rel\n",
    "    max_IWO[rel] = max_IWO_this_rel\n",
    "    min_mme[rel] = min_mme_this_rel\n",
    "    min_IBO[rel] = min_IBO_this_rel\n",
    "    min_IWO[rel] = min_IWO_this_rel"
   ]
  },
  {
   "cell_type": "code",
   "execution_count": null,
   "metadata": {},
   "outputs": [],
   "source": [
    "df_max_mme = pd.Series(max_mme)\n",
    "df_max_IBO = pd.Series(max_IBO)\n",
    "df_max_IWO = pd.Series(max_IWO)\n",
    "df_min_mme = pd.Series(min_mme)\n",
    "df_min_IWO = pd.Series(min_IWO)\n",
    "df_min_IBO = pd.Series(min_IBO)"
   ]
  },
  {
   "cell_type": "markdown",
   "metadata": {},
   "source": [
    "Most unfair (Max MME) for this case, across all permutations of relevance and recommendation list"
   ]
  },
  {
   "cell_type": "code",
   "execution_count": null,
   "metadata": {},
   "outputs": [
    {
     "data": {
      "text/plain": [
       "0.3888888889"
      ]
     },
     "metadata": {},
     "output_type": "display_data"
    }
   ],
   "source": [
    "df_max_mme.max()"
   ]
  },
  {
   "cell_type": "code",
   "execution_count": null,
   "metadata": {},
   "outputs": [
    {
     "data": {
      "text/plain": [
       "0.3888888888888889"
      ]
     },
     "metadata": {},
     "output_type": "display_data"
    }
   ],
   "source": [
    "7/18"
   ]
  },
  {
   "cell_type": "markdown",
   "metadata": {},
   "source": [
    "Most unfair IBO (min) and IWO (max) for this case, across all permutations of relevance and recommendation list"
   ]
  },
  {
   "cell_type": "code",
   "execution_count": null,
   "metadata": {},
   "outputs": [
    {
     "data": {
      "text/plain": [
       "0.0"
      ]
     },
     "metadata": {},
     "output_type": "display_data"
    }
   ],
   "source": [
    "df_min_IBO.min() #OK"
   ]
  },
  {
   "cell_type": "code",
   "execution_count": null,
   "metadata": {},
   "outputs": [
    {
     "data": {
      "text/plain": [
       "1.0"
      ]
     },
     "metadata": {},
     "output_type": "display_data"
    }
   ],
   "source": [
    "df_max_IWO.max() #OK"
   ]
  },
  {
   "cell_type": "markdown",
   "metadata": {},
   "source": [
    "Most fair IBO (max) and IWO (min) for this case, across all permutations of relevance and recommendation list"
   ]
  },
  {
   "cell_type": "code",
   "execution_count": null,
   "metadata": {},
   "outputs": [
    {
     "data": {
      "text/plain": [
       "0.6666666667"
      ]
     },
     "metadata": {},
     "output_type": "display_data"
    }
   ],
   "source": [
    "df_max_IBO.max() #not ok"
   ]
  },
  {
   "cell_type": "code",
   "execution_count": null,
   "metadata": {},
   "outputs": [
    {
     "data": {
      "text/plain": [
       "0.3333333333"
      ]
     },
     "metadata": {},
     "output_type": "display_data"
    }
   ],
   "source": [
    "df_min_IWO.min() #not ok"
   ]
  },
  {
   "cell_type": "markdown",
   "metadata": {},
   "source": [
    "Most fair MME (min), and most unfair IBO (min), IWO (max) for the case where all items are relevant to all users"
   ]
  },
  {
   "cell_type": "code",
   "execution_count": null,
   "metadata": {},
   "outputs": [
    {
     "data": {
      "text/plain": [
       "0.0555555556"
      ]
     },
     "metadata": {},
     "output_type": "display_data"
    }
   ],
   "source": [
    "df_min_mme[(1,1,1,1,1,1)]"
   ]
  },
  {
   "cell_type": "code",
   "execution_count": null,
   "metadata": {},
   "outputs": [
    {
     "data": {
      "text/plain": [
       "0.1388888889"
      ]
     },
     "metadata": {},
     "output_type": "display_data"
    }
   ],
   "source": [
    "df_min_mme[(0,0,1,0,0,1)]"
   ]
  },
  {
   "cell_type": "code",
   "execution_count": null,
   "metadata": {},
   "outputs": [
    {
     "data": {
      "text/plain": [
       "0.1388888888888889"
      ]
     },
     "metadata": {},
     "output_type": "display_data"
    }
   ],
   "source": [
    "5/36"
   ]
  },
  {
   "cell_type": "code",
   "execution_count": null,
   "metadata": {},
   "outputs": [
    {
     "data": {
      "text/plain": [
       "0.05555555555555555"
      ]
     },
     "metadata": {},
     "output_type": "display_data"
    }
   ],
   "source": [
    "1/18"
   ]
  },
  {
   "cell_type": "code",
   "execution_count": null,
   "metadata": {},
   "outputs": [
    {
     "data": {
      "text/plain": [
       "0.6666666667"
      ]
     },
     "metadata": {},
     "output_type": "display_data"
    }
   ],
   "source": [
    "df_max_IWO[(1,1,1,1,1,1)]"
   ]
  },
  {
   "cell_type": "markdown",
   "metadata": {},
   "source": [
    "# Is IBO/IWO always fair?"
   ]
  },
  {
   "cell_type": "code",
   "execution_count": null,
   "metadata": {},
   "outputs": [],
   "source": [
    "import itertools\n",
    "\n",
    "IWO_result = dict()\n",
    "k = 2\n",
    "num_item = 3\n",
    "\n",
    "permute_item = list(itertools.permutations([i+1 for i in range(num_item)]))\n",
    "\n",
    "for rel in [(1,1,0,1,1,0)]:\n",
    "\n",
    "    for Ru1 in permute_item:\n",
    "        for Ru2 in permute_item:\n",
    "            \n",
    "            curr_rec = np.array([Ru1,Ru2])\n",
    "            curr_rec = torch.Tensor(curr_rec).int()\n",
    "            curr_rel = np.array(rel).reshape(curr_rec.shape[0],num_item)\n",
    "            curr_rel = torch.Tensor(curr_rel)\n",
    "\n",
    "            num_pos_item = torch.Tensor(curr_rel).sum(axis=1)\n",
    "            num_pos_item = num_pos_item[:,np.newaxis]\n",
    "\n",
    "            curr_rel = torch.cat([curr_rel, num_pos_item], dim=1).int()\n",
    "            result = get_measure(num_item, curr_rec, curr_rel, k,metrics=[\"IBOIWO\"])\n",
    "\n",
    "            IWO_result[str([Ru1,Ru2])] = result[f\"IWO_ori@{k}\"]"
   ]
  },
  {
   "cell_type": "code",
   "execution_count": null,
   "metadata": {},
   "outputs": [
    {
     "data": {
      "text/plain": [
       "array([ 0., nan])"
      ]
     },
     "metadata": {},
     "output_type": "display_data"
    }
   ],
   "source": [
    "pd.Series(IWO_result).sort_values().unique()"
   ]
  },
  {
   "cell_type": "code",
   "execution_count": null,
   "metadata": {},
   "outputs": [
    {
     "data": {
      "text/plain": [
       "array([ 1., nan])"
      ]
     },
     "metadata": {},
     "output_type": "display_data"
    }
   ],
   "source": [
    "import itertools\n",
    "\n",
    "IBO_result = dict()\n",
    "\n",
    "k = 1\n",
    "num_item = 3\n",
    "\n",
    "permute_item = list(itertools.permutations([i+1 for i in range(num_item)]))\n",
    "\n",
    "for rel in [(1,0,0,1,0,0,1,0,0)]:\n",
    "    for Ru1 in permute_item:\n",
    "        for Ru2 in permute_item:\n",
    "            for Ru3 in permute_item:\n",
    "            \n",
    "                curr_rec = np.array([Ru1,Ru2,Ru3])\n",
    "                curr_rec = torch.Tensor(curr_rec).int()\n",
    "                curr_rel = np.array(rel).reshape(curr_rec.shape[0],num_item)\n",
    "                curr_rel = torch.Tensor(curr_rel)\n",
    "\n",
    "                num_pos_item = torch.Tensor(curr_rel).sum(axis=1)\n",
    "                num_pos_item = num_pos_item[:,np.newaxis]\n",
    "\n",
    "                curr_rel = torch.cat([curr_rel, num_pos_item], dim=1).int()\n",
    "                result = get_measure(num_item, curr_rec, curr_rel, k,metrics=[\"IBOIWO\"])\n",
    "                IBO_result[str([Ru1,Ru2,Ru3])] = result[f\"IBO_ori@{k}\"]\n",
    "\n",
    "pd.Series(IBO_result).sort_values().unique()"
   ]
  },
  {
   "attachments": {},
   "cell_type": "markdown",
   "metadata": {},
   "source": [
    "# Why does IBO increase for ml-1m?"
   ]
  },
  {
   "cell_type": "code",
   "execution_count": 6,
   "metadata": {},
   "outputs": [],
   "source": [
    "import pickle\n",
    "from recbole.config import Config\n",
    "import pandas as pd\n",
    "import numpy as np\n",
    "from collections import Counter\n",
    "\n",
    "list_dataset = [\n",
    "    \"lastfm\",\n",
    "    \"ml-1m\",\n",
    "]\n",
    "\n",
    "item_count = {\n",
    "    \"lastfm\":2823,\n",
    "    \"ml-1m\":3307,\n",
    "}\n",
    "\n",
    "\n",
    "item_with_no_rel_user = dict()\n",
    "\n",
    "for dataset in list_dataset:\n",
    "    item_with_no_rel_user[dataset] = []  \n",
    "    config = Config(\n",
    "                model=\"Pop\", \n",
    "                dataset=dataset, \n",
    "                config_file_list=[\"../RecBole/recbole/properties/overall.yaml\"],\n",
    "                )\n",
    "\n",
    "\n",
    "    with open(f\"../train_val_test/{dataset}_test.pickle\",\"rb\") as f:\n",
    "        data = pickle.load(f)\n",
    "    test = pd.DataFrame(data)\n",
    "\n",
    "    item_id = config.final_config_dict[\"ITEM_ID_FIELD\"]\n",
    "\n",
    "    test = test.groupby(\"user_id\")\\\n",
    "        .agg(lambda x: [x for x in x])\\\n",
    "        [item_id]\n",
    "    \n",
    "\n",
    "    count_rel_user_per_item = Counter(test.sum())\n",
    "\n",
    "    for item_id in range(1, item_count[dataset]+1):\n",
    "        if item_id not in count_rel_user_per_item:\n",
    "            item_with_no_rel_user[dataset].append(item_id)"
   ]
  },
  {
   "cell_type": "code",
   "execution_count": 33,
   "metadata": {},
   "outputs": [
    {
     "name": "stdout",
     "output_type": "stream",
     "text": [
      "lastfm, BPR, 0:5; num_unique_rel_item: 324; num_item_with_no_rel_user: 143\n",
      "lastfm, BPR, 1:6; num_unique_rel_item: 308; num_item_with_no_rel_user: 157\n",
      "lastfm, BPR, 2:7; num_unique_rel_item: 303; num_item_with_no_rel_user: 168\n",
      "lastfm, BPR, 3:8; num_unique_rel_item: 291; num_item_with_no_rel_user: 165\n",
      "lastfm, BPR, 4:9; num_unique_rel_item: 276; num_item_with_no_rel_user: 186\n",
      "ml-1m, BPR, 0:5; num_unique_rel_item: 464; num_item_with_no_rel_user: 0\n",
      "ml-1m, BPR, 1:6; num_unique_rel_item: 484; num_item_with_no_rel_user: 0\n",
      "ml-1m, BPR, 2:7; num_unique_rel_item: 506; num_item_with_no_rel_user: 1\n",
      "ml-1m, BPR, 3:8; num_unique_rel_item: 505; num_item_with_no_rel_user: 1\n",
      "ml-1m, BPR, 4:9; num_unique_rel_item: 519; num_item_with_no_rel_user: 1\n"
     ]
    }
   ],
   "source": [
    "import torch\n",
    "list_dataset = [\n",
    "    \"lastfm\",\n",
    "    \"ml-1m\",\n",
    "]\n",
    "\n",
    "model_list = [\n",
    "    \"BPR\",\n",
    "    ]\n",
    "\n",
    "window = 5\n",
    "total_k = 10\n",
    "\n",
    "filenames_of_best_model = [\n",
    " 'filename_best_model_for_lastfm.pickle',\n",
    " 'filename_best_model_for_ml-1m.pickle',\n",
    " ]\n",
    "\n",
    "for dataset in list_dataset:\n",
    "\n",
    "    filename = [f for f in filenames_of_best_model if dataset in f][0]\n",
    "\n",
    "    with open(\"../results/\"+filename,\"rb\") as f:\n",
    "        models = pickle.load(f)\n",
    "\n",
    "    #non-pop model\n",
    "    for model in models:\n",
    "\n",
    "        model_name = model.split(\"-\")[0]\n",
    "        if model_name not in model_list:\n",
    "            continue\n",
    "\n",
    "        with open(f\"../hendrix/struct/struct_{dataset}_\"+model,\"rb\") as f:\n",
    "            struct = pickle.load(f)\n",
    "        item_matrix = struct.get('rec.items')\n",
    "        rec_mat = struct.get('rec.topk')\n",
    "\n",
    "        for k in range(0,5,1):\n",
    "            updated_rec_mat_wo_last = rec_mat[:,k:k+window]\n",
    "          \n",
    "            updated_item_matrix = item_matrix[:,k:k+window]\n",
    "\n",
    "            # num_rel_item = updated_rec_mat_wo_last.sum().items()\n",
    "            num_unique_rel_item = torch.where(updated_rec_mat_wo_last.bool(),updated_item_matrix,0).unique().shape[0] - 1\n",
    "            #get unique items\n",
    "            unique_items = updated_item_matrix.unique()\n",
    "            num_item_with_no_rel_user = np.isin(unique_items, item_with_no_rel_user[dataset]).sum()\n",
    "\n",
    "            print(f\"{dataset}, {model_name}, {k}:{k+window}; num_unique_rel_item: {num_unique_rel_item}; num_item_with_no_rel_user: {num_item_with_no_rel_user}\")"
   ]
  },
  {
   "attachments": {},
   "cell_type": "markdown",
   "metadata": {},
   "source": [
    "# Is IBO+IWO = 1 ?"
   ]
  },
  {
   "cell_type": "code",
   "execution_count": null,
   "metadata": {},
   "outputs": [],
   "source": [
    "from recbole.evaluator.evaluator import Evaluator\n",
    "from recbole.config import Config\n",
    "import torch\n",
    "import pickle\n",
    "import pandas as pd\n",
    "import numpy as np\n",
    "\n",
    "list_dataset = [\n",
    "    \"ml-1m\",\n",
    "    \"lastfm\"\n",
    "]\n",
    "\n",
    "model_list = [\n",
    "    \"BPR\",\n",
    "    ]\n",
    "\n",
    "window = 5\n",
    "total_k = 10\n",
    "\n",
    "filenames_of_best_model = [\n",
    " 'filename_best_model_for_ml-1m.pickle',\n",
    " 'filename_best_model_for_lastfm.pickle',\n",
    " ]\n",
    "\n",
    "for dataset in list_dataset:\n",
    "    config = Config(\n",
    "                model=\"Pop\", \n",
    "                dataset=dataset, \n",
    "                config_file_list=[\"../RecBole/recbole/properties/overall.yaml\"],\n",
    "                config_dict={\"topk\":5, \"metrics\":[\"IBOIWO\"] \n",
    "                }\n",
    "                )\n",
    "\n",
    "    with open(f\"../train_val_test/{dataset}_test.pickle\",\"rb\") as f:\n",
    "        data = pickle.load(f)\n",
    "    test = pd.DataFrame(data)\n",
    "\n",
    "    item_id = config.final_config_dict[\"ITEM_ID_FIELD\"]\n",
    "\n",
    "    test = test.groupby(\"user_id\")\\\n",
    "        .agg(lambda x: [x for x in x])\\\n",
    "        [item_id]\n",
    "    evaluator = Evaluator(config)\n",
    "\n",
    "    filename = [f for f in filenames_of_best_model if dataset in f][0]\n",
    "\n",
    "    with open(\"../results/\"+filename,\"rb\") as f:\n",
    "        models = pickle.load(f)\n",
    "\n",
    "    #non-pop model\n",
    "    for model in models:\n",
    "\n",
    "        model_name = model.split(\"-\")[0]\n",
    "        if model_name not in model_list:\n",
    "            continue\n",
    "\n",
    "        with open(f\"../hendrix/struct/struct_{dataset}_\"+model,\"rb\") as f:\n",
    "            struct = pickle.load(f)\n",
    "\n",
    "        item_matrix = struct.get('rec.items')\n",
    "        rec_mat = struct.get('rec.topk')\n",
    "        struct.set(\"data.pos_items\",test.apply(np.array).values)\n",
    "\n",
    "        for k in range(0,5,1):\n",
    "            print(f\"Doing {dataset}, {model_name}, {k}:{k+window}\")\n",
    "\n",
    "            #slice item_matrix and relevance_matrix\n",
    "            updated_item_matrix = item_matrix[:,k:k+window]\n",
    "            updated_rec_mat = torch.cat((rec_mat[:,k:k+window], rec_mat[:,-1:]), axis=1)\n",
    "\n",
    "            struct.set(\"rec.items\",updated_item_matrix)\n",
    "            struct.set(\"rec.topk\",updated_rec_mat)\n",
    "\n",
    "            evaluator = Evaluator(config)\n",
    "            result = evaluator.evaluate(struct)\n",
    "            print(result)"
   ]
  }
 ],
 "metadata": {
  "kernelspec": {
   "display_name": "fairreceval",
   "language": "python",
   "name": "python3"
  },
  "language_info": {
   "codemirror_mode": {
    "name": "ipython",
    "version": 3
   },
   "file_extension": ".py",
   "mimetype": "text/x-python",
   "name": "python",
   "nbconvert_exporter": "python",
   "pygments_lexer": "ipython3",
   "version": "3.10.8"
  },
  "orig_nbformat": 4,
  "vscode": {
   "interpreter": {
    "hash": "fe0d571e343c00b66bb6a6b9f25fbc50947e8e28daf577955b94753bab898243"
   }
  }
 },
 "nbformat": 4,
 "nbformat_minor": 2
}
