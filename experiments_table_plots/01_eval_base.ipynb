{
 "cells": [
  {
   "attachments": {},
   "cell_type": "markdown",
   "metadata": {},
   "source": [
    "# Base Experiments"
   ]
  },
  {
   "cell_type": "code",
   "execution_count": 1,
   "metadata": {},
   "outputs": [
    {
     "name": "stderr",
     "output_type": "stream",
     "text": [
      "c:\\Users\\rbt938\\Anaconda3\\envs\\fairreceval\\lib\\site-packages\\tqdm\\auto.py:22: TqdmWarning: IProgress not found. Please update jupyter and ipywidgets. See https://ipywidgets.readthedocs.io/en/stable/user_install.html\n",
      "  from .autonotebook import tqdm as notebook_tqdm\n"
     ]
    }
   ],
   "source": [
    "from recbole.config import Config\n",
    "from recbole.evaluator.evaluator import Evaluator\n",
    "import pandas as pd\n",
    "import pickle\n",
    "import numpy as np"
   ]
  },
  {
   "cell_type": "code",
   "execution_count": 2,
   "metadata": {},
   "outputs": [],
   "source": [
    "import os\n",
    "import time\n",
    "import torch"
   ]
  },
  {
   "cell_type": "code",
   "execution_count": 3,
   "metadata": {},
   "outputs": [],
   "source": [
    "filenames_of_best_model = [\n",
    " 'filename_best_model_for_Amazon_Luxury_Beauty.pickle',\n",
    " 'filename_best_model_for_lastfm.pickle',\n",
    " 'filename_best_model_for_ml-1m.pickle',\n",
    "  'filename_best_model_for_book-crossing.pickle',\n",
    " 'filename_best_model_for_Amazon_Industrial_and_Scientific.pickle',\n",
    "'filename_best_model_for_Amazon_Digital_Music.pickle',\n",
    " ]"
   ]
  },
  {
   "cell_type": "code",
   "execution_count": null,
   "metadata": {},
   "outputs": [],
   "source": [
    "result_dict = dict()\n",
    "k=10\n",
    "for filename in filenames_of_best_model:\n",
    "    dataset = filename.replace('filename_best_model_for_',\"\").replace(\".pickle\",\"\")\n",
    "    print(f\"Doing {dataset}\")\n",
    "    result_dict[dataset] = dict()\n",
    "    \n",
    "    config = Config(\n",
    "                model=\"Pop\", \n",
    "                dataset=dataset, \n",
    "                config_file_list=[\"../RecBole/recbole/properties/overall.yaml\"],\n",
    "                config_dict={\"topk\": [k],\n",
    "                \"metrics\":[\"RelMetrics\",\"FairWORel\",\"IID_AID\"]\n",
    "                }\n",
    "                )\n",
    "\n",
    "    with open(f\"../train_val_test/{dataset}_test.pickle\",\"rb\") as f:\n",
    "        data = pickle.load(f)\n",
    "    test = pd.DataFrame(data)\n",
    "\n",
    "    item_id = config.final_config_dict[\"ITEM_ID_FIELD\"]\n",
    "\n",
    "    test = test.groupby(\"user_id\")\\\n",
    "        .agg(lambda x: [x for x in x])\\\n",
    "        [item_id]\n",
    "    evaluator = Evaluator(config)\n",
    "\n",
    "    with open(\"../results/\"+filename,\"rb\") as f:\n",
    "        models = pickle.load(f)\n",
    "\n",
    "    #non-pop model\n",
    "    for model in models:\n",
    "\n",
    "        model_name = model.split(\"-\")[0]\n",
    "        print(model_name)\n",
    "        with open(f\"../hendrix/struct/struct_{dataset}_\"+model,\"rb\") as f:\n",
    "            struct = pickle.load(f)\n",
    "\n",
    "        item_matrix = struct.get('rec.items')\n",
    "        rec_mat = struct.get('rec.topk')\n",
    "        struct.set(\"data.pos_items\",test.apply(np.array).values)\n",
    "\n",
    "        #slice item_matrix and relevance_matrix\n",
    "        updated_item_matrix = item_matrix[:,:k]\n",
    "        updated_rec_mat = torch.cat((rec_mat[:,:k], rec_mat[:,-1:]), axis=1)\n",
    "\n",
    "        struct.set(\"rec.items\",updated_item_matrix)\n",
    "        struct.set(\"rec.topk\",updated_rec_mat)\n",
    "\n",
    "        struct.set(\"data.pos_items\",test.apply(np.array).values)\n",
    "\n",
    "        start_time = time.time()\n",
    "        result = evaluator.evaluate(struct)\n",
    "        print(\"total time taken: \", time.time() - start_time)\n",
    "        result_dict[dataset][model_name] = result\n",
    "        print(result)\n",
    "        with open(f\"../results/base/base_{dataset}_{model_name}.pickle\",\"wb\") as f:\n",
    "            pickle.dump(result, f, pickle.HIGHEST_PROTOCOL)\n",
    "\n",
    "    #pop result\n",
    "    model_name = \"Pop\"\n",
    "    print(model_name)\n",
    "    \n",
    "    list_file = os.listdir(\"../struct/\")\n",
    "    file_for_dataset = [x for x in list_file if dataset in x]\n",
    "    assert len(file_for_dataset) == 1\n",
    "\n",
    "    with open(\"../struct/\"+file_for_dataset[0],\"rb\") as f:\n",
    "        struct = pickle.load(f)\n",
    "\n",
    "    item_matrix = struct.get('rec.items')\n",
    "    rec_mat = struct.get('rec.topk')\n",
    "    #slice item_matrix and relevance_matrix\n",
    "    updated_item_matrix = item_matrix[:,:k]\n",
    "    updated_rec_mat = torch.cat((rec_mat[:,:k], rec_mat[:,-1:]), axis=1)\n",
    "\n",
    "    struct.set(\"rec.items\",updated_item_matrix)\n",
    "    struct.set(\"rec.topk\",updated_rec_mat)\n",
    "\n",
    "    struct.set(\"data.pos_items\",test.apply(np.array).values)\n",
    "    start_time = time.time()\n",
    "    result = evaluator.evaluate(struct)\n",
    "    print(\"total time taken: \", time.time() - start_time)\n",
    "\n",
    "    result_dict[dataset][model_name] = result\n",
    "    print(result)\n",
    "    with open(f\"../results/base/base_{dataset}_{model_name}.pickle\",\"wb\") as f:\n",
    "        pickle.dump(result, f, pickle.HIGHEST_PROTOCOL)"
   ]
  }
 ],
 "metadata": {
  "kernelspec": {
   "display_name": "fairreceval",
   "language": "python",
   "name": "python3"
  },
  "language_info": {
   "codemirror_mode": {
    "name": "ipython",
    "version": 3
   },
   "file_extension": ".py",
   "mimetype": "text/x-python",
   "name": "python",
   "nbconvert_exporter": "python",
   "pygments_lexer": "ipython3",
   "version": "3.10.8"
  },
  "orig_nbformat": 4,
  "vscode": {
   "interpreter": {
    "hash": "fe0d571e343c00b66bb6a6b9f25fbc50947e8e28daf577955b94753bab898243"
   }
  }
 },
 "nbformat": 4,
 "nbformat_minor": 2
}
