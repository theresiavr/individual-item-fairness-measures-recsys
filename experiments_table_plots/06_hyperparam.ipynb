{
 "cells": [
  {
   "cell_type": "code",
   "execution_count": 97,
   "metadata": {},
   "outputs": [],
   "source": [
    "import pickle"
   ]
  },
  {
   "cell_type": "code",
   "execution_count": 98,
   "metadata": {},
   "outputs": [],
   "source": [
    "import os"
   ]
  },
  {
   "cell_type": "code",
   "execution_count": 99,
   "metadata": {},
   "outputs": [],
   "source": [
    "path = \"../bestparam/\""
   ]
  },
  {
   "cell_type": "code",
   "execution_count": 100,
   "metadata": {},
   "outputs": [],
   "source": [
    "import pandas as pd"
   ]
  },
  {
   "cell_type": "code",
   "execution_count": 101,
   "metadata": {},
   "outputs": [],
   "source": [
    "result_dict = dict()"
   ]
  },
  {
   "cell_type": "code",
   "execution_count": 119,
   "metadata": {},
   "outputs": [],
   "source": [
    "bestparamfiles = os.listdir(path)\n",
    "for file in bestparamfiles:\n",
    "    splitted = file.rsplit(\"_\",3)\n",
    "    dataset = splitted[0]\n",
    "    model = splitted[1]\n",
    "    \n",
    "\n",
    "    \n",
    "    if dataset not in result_dict: \n",
    "        result_dict[dataset] = dict()\n",
    "\n",
    "    with open(path+file,\"rb\") as f:\n",
    "        bestparam = pickle.load(f)\n",
    "        result_dict[dataset][model] = bestparam"
   ]
  },
  {
   "cell_type": "code",
   "execution_count": 133,
   "metadata": {},
   "outputs": [],
   "source": [
    "def stringify_dict(dictionary:dict, size:str):\n",
    "    stringified = \"\"\n",
    "    new_dict = dict()\n",
    "    for key, val in dictionary.items():\n",
    "        new_key = key.replace(\"_\", \" \")\\\n",
    "                .replace(\"learning rate\",\"lr\")\\\n",
    "                .replace(\"node dropout\", \"dropout prob\")\\\n",
    "                .replace(\"hidden size list\", \"hidden size\")\\\n",
    "                .replace(\"mlp hidden size\", \"hidden size\")\\\n",
    "                .replace(\"dimension\", \"dim\")\n",
    "        new_dict[new_key] = val\n",
    "\n",
    "    for key, val in sorted(new_dict.items()):\n",
    "\n",
    "        stringified+= f\"{key}: {val}, \\\\\\\\\"\n",
    "    stringified = stringified[:-4]\n",
    "\n",
    "    stringified = \"\\\\parbox[t]{\" + size+ \"}{\" + stringified + \"}\"\n",
    "    return stringified"
   ]
  },
  {
   "cell_type": "code",
   "execution_count": null,
   "metadata": {},
   "outputs": [],
   "source": [
    "df_result = pd.DataFrame(result_dict).T\n",
    "df_result = df_result[df_result.index!=\"amazon-video-games\"]\n",
    "df_result = df_result.rename(index={\"Amazon_Digital_Music\":\"amazon-dm\",\n",
    "                        \"Amazon_Industrial_and_Scientific\":\"amazon-is\",\n",
    "                        \"Amazon_Luxury_Beauty\":\"amazon-lb\",\n",
    "                        \"book-crossing\":\"book-x\",\n",
    "                        },\n",
    "                         columns={\"SLIMElastic\":\"SLIM\"}\n",
    "                        )\n",
    "df_result = df_result.loc[[\"amazon-lb\",\"lastfm\",\"ml-1m\",\"book-x\",\"amazon-is\", \"amazon-dm\"],[\"ItemKNN\",\"SLIM\",\"BPR\",\"NGCF\",\"NeuMF\", \"MultiVAE\"]]\n",
    "pd.options.display.max_colwidth = 1000\n",
    "df_result[\"ItemKNN\"] = df_result[\"ItemKNN\"].apply(lambda x: stringify_dict(x, \"1.5cm\"))\n",
    "df_result[\"SLIM\"] = df_result[\"SLIM\"].apply(lambda x: stringify_dict(x, \"1.8cm\"))\n",
    "df_result[\"BPR\"] = df_result[\"BPR\"].apply(lambda x: stringify_dict(x, \"3cm\"))\n",
    "df_result[\"MultiVAE\"] = df_result[\"MultiVAE\"].apply(lambda x: stringify_dict(x, \"2.5cm\"))\n",
    "df_result[\"NGCF\"] = df_result[\"NGCF\"].apply(lambda x: stringify_dict(x, \"3.5cm\"))\n",
    "df_result[\"NeuMF\"] = df_result[\"NeuMF\"].apply(lambda x: stringify_dict(x, \"3.2cm\"))\n",
    "print(df_result.to_latex(escape=False))"
   ]
  }
 ],
 "metadata": {
  "kernelspec": {
   "display_name": "fairreceval",
   "language": "python",
   "name": "python3"
  },
  "language_info": {
   "codemirror_mode": {
    "name": "ipython",
    "version": 3
   },
   "file_extension": ".py",
   "mimetype": "text/x-python",
   "name": "python",
   "nbconvert_exporter": "python",
   "pygments_lexer": "ipython3",
   "version": "3.10.8"
  },
  "orig_nbformat": 4,
  "vscode": {
   "interpreter": {
    "hash": "fe0d571e343c00b66bb6a6b9f25fbc50947e8e28daf577955b94753bab898243"
   }
  }
 },
 "nbformat": 4,
 "nbformat_minor": 2
}
